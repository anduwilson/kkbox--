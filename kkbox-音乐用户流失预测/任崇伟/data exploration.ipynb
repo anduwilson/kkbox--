{
 "cells": [
  {
   "cell_type": "code",
   "execution_count": 2,
   "metadata": {},
   "outputs": [],
   "source": [
    "#首先 import 必要的模块\n",
    "import numpy as np # linear algebra\n",
    "import pandas as pd # data processing, CSV file I/O\n",
    "\n",
    "import matplotlib.pyplot as plt\n",
    "import seaborn as sns\n",
    "import warnings\n",
    "warnings.filterwarnings('ignore')\n",
    "#color = sns.color_palette()\n",
    "\n",
    "%matplotlib inline"
   ]
  },
  {
   "cell_type": "code",
   "execution_count": 3,
   "metadata": {},
   "outputs": [
    {
     "data": {
      "text/html": [
       "<div>\n",
       "<style scoped>\n",
       "    .dataframe tbody tr th:only-of-type {\n",
       "        vertical-align: middle;\n",
       "    }\n",
       "\n",
       "    .dataframe tbody tr th {\n",
       "        vertical-align: top;\n",
       "    }\n",
       "\n",
       "    .dataframe thead th {\n",
       "        text-align: right;\n",
       "    }\n",
       "</style>\n",
       "<table border=\"1\" class=\"dataframe\">\n",
       "  <thead>\n",
       "    <tr style=\"text-align: right;\">\n",
       "      <th></th>\n",
       "      <th>msno</th>\n",
       "      <th>song_id</th>\n",
       "      <th>source_system_tab</th>\n",
       "      <th>source_screen_name</th>\n",
       "      <th>source_type</th>\n",
       "      <th>target</th>\n",
       "    </tr>\n",
       "  </thead>\n",
       "  <tbody>\n",
       "    <tr>\n",
       "      <th>0</th>\n",
       "      <td>FGtllVqz18RPiwJj/edr2gV78zirAiY/9SmYvia+kCg=</td>\n",
       "      <td>BBzumQNXUHKdEBOB7mAJuzok+IJA1c2Ryg/yzTF6tik=</td>\n",
       "      <td>explore</td>\n",
       "      <td>Explore</td>\n",
       "      <td>online-playlist</td>\n",
       "      <td>1</td>\n",
       "    </tr>\n",
       "    <tr>\n",
       "      <th>1</th>\n",
       "      <td>Xumu+NIjS6QYVxDS4/t3SawvJ7viT9hPKXmf0RtLNx8=</td>\n",
       "      <td>bhp/MpSNoqoxOIB+/l8WPqu6jldth4DIpCm3ayXnJqM=</td>\n",
       "      <td>my library</td>\n",
       "      <td>Local playlist more</td>\n",
       "      <td>local-playlist</td>\n",
       "      <td>1</td>\n",
       "    </tr>\n",
       "    <tr>\n",
       "      <th>2</th>\n",
       "      <td>Xumu+NIjS6QYVxDS4/t3SawvJ7viT9hPKXmf0RtLNx8=</td>\n",
       "      <td>JNWfrrC7zNN7BdMpsISKa4Mw+xVJYNnxXh3/Epw7QgY=</td>\n",
       "      <td>my library</td>\n",
       "      <td>Local playlist more</td>\n",
       "      <td>local-playlist</td>\n",
       "      <td>1</td>\n",
       "    </tr>\n",
       "    <tr>\n",
       "      <th>3</th>\n",
       "      <td>Xumu+NIjS6QYVxDS4/t3SawvJ7viT9hPKXmf0RtLNx8=</td>\n",
       "      <td>2A87tzfnJTSWqD7gIZHisolhe4DMdzkbd6LzO1KHjNs=</td>\n",
       "      <td>my library</td>\n",
       "      <td>Local playlist more</td>\n",
       "      <td>local-playlist</td>\n",
       "      <td>1</td>\n",
       "    </tr>\n",
       "    <tr>\n",
       "      <th>4</th>\n",
       "      <td>FGtllVqz18RPiwJj/edr2gV78zirAiY/9SmYvia+kCg=</td>\n",
       "      <td>3qm6XTZ6MOCU11x8FIVbAGH5l5uMkT3/ZalWG1oo2Gc=</td>\n",
       "      <td>explore</td>\n",
       "      <td>Explore</td>\n",
       "      <td>online-playlist</td>\n",
       "      <td>1</td>\n",
       "    </tr>\n",
       "  </tbody>\n",
       "</table>\n",
       "</div>"
      ],
      "text/plain": [
       "                                           msno  \\\n",
       "0  FGtllVqz18RPiwJj/edr2gV78zirAiY/9SmYvia+kCg=   \n",
       "1  Xumu+NIjS6QYVxDS4/t3SawvJ7viT9hPKXmf0RtLNx8=   \n",
       "2  Xumu+NIjS6QYVxDS4/t3SawvJ7viT9hPKXmf0RtLNx8=   \n",
       "3  Xumu+NIjS6QYVxDS4/t3SawvJ7viT9hPKXmf0RtLNx8=   \n",
       "4  FGtllVqz18RPiwJj/edr2gV78zirAiY/9SmYvia+kCg=   \n",
       "\n",
       "                                        song_id source_system_tab  \\\n",
       "0  BBzumQNXUHKdEBOB7mAJuzok+IJA1c2Ryg/yzTF6tik=           explore   \n",
       "1  bhp/MpSNoqoxOIB+/l8WPqu6jldth4DIpCm3ayXnJqM=        my library   \n",
       "2  JNWfrrC7zNN7BdMpsISKa4Mw+xVJYNnxXh3/Epw7QgY=        my library   \n",
       "3  2A87tzfnJTSWqD7gIZHisolhe4DMdzkbd6LzO1KHjNs=        my library   \n",
       "4  3qm6XTZ6MOCU11x8FIVbAGH5l5uMkT3/ZalWG1oo2Gc=           explore   \n",
       "\n",
       "    source_screen_name      source_type  target  \n",
       "0              Explore  online-playlist       1  \n",
       "1  Local playlist more   local-playlist       1  \n",
       "2  Local playlist more   local-playlist       1  \n",
       "3  Local playlist more   local-playlist       1  \n",
       "4              Explore  online-playlist       1  "
      ]
     },
     "execution_count": 3,
     "metadata": {},
     "output_type": "execute_result"
    }
   ],
   "source": [
    "train = pd.read_csv(\"../data1/train.csv\")\n",
    "train.head() #读取数据并查看前五行"
   ]
  },
  {
   "cell_type": "code",
   "execution_count": 4,
   "metadata": {},
   "outputs": [
    {
     "name": "stdout",
     "output_type": "stream",
     "text": [
      "Train : (7377418, 6)\n"
     ]
    }
   ],
   "source": [
    "print(\"Train :\", train.shape)#读取训练数据，并查看特征维数"
   ]
  },
  {
   "cell_type": "code",
   "execution_count": 5,
   "metadata": {},
   "outputs": [
    {
     "name": "stdout",
     "output_type": "stream",
     "text": [
      "<class 'pandas.core.frame.DataFrame'>\n",
      "RangeIndex: 7377418 entries, 0 to 7377417\n",
      "Data columns (total 6 columns):\n",
      "msno                  object\n",
      "song_id               object\n",
      "source_system_tab     object\n",
      "source_screen_name    object\n",
      "source_type           object\n",
      "target                int64\n",
      "dtypes: int64(1), object(5)\n",
      "memory usage: 337.7+ MB\n"
     ]
    }
   ],
   "source": [
    "#查看数据基本信息\n",
    "train.info()"
   ]
  },
  {
   "cell_type": "markdown",
   "metadata": {},
   "source": [
    "7377418个样本，5个特征1个标签列"
   ]
  },
  {
   "cell_type": "code",
   "execution_count": 7,
   "metadata": {},
   "outputs": [
    {
     "data": {
      "text/html": [
       "<div>\n",
       "<style scoped>\n",
       "    .dataframe tbody tr th:only-of-type {\n",
       "        vertical-align: middle;\n",
       "    }\n",
       "\n",
       "    .dataframe tbody tr th {\n",
       "        vertical-align: top;\n",
       "    }\n",
       "\n",
       "    .dataframe thead th {\n",
       "        text-align: right;\n",
       "    }\n",
       "</style>\n",
       "<table border=\"1\" class=\"dataframe\">\n",
       "  <thead>\n",
       "    <tr style=\"text-align: right;\">\n",
       "      <th></th>\n",
       "      <th>target</th>\n",
       "    </tr>\n",
       "  </thead>\n",
       "  <tbody>\n",
       "    <tr>\n",
       "      <th>count</th>\n",
       "      <td>7.377418e+06</td>\n",
       "    </tr>\n",
       "    <tr>\n",
       "      <th>mean</th>\n",
       "      <td>5.035171e-01</td>\n",
       "    </tr>\n",
       "    <tr>\n",
       "      <th>std</th>\n",
       "      <td>4.999877e-01</td>\n",
       "    </tr>\n",
       "    <tr>\n",
       "      <th>min</th>\n",
       "      <td>0.000000e+00</td>\n",
       "    </tr>\n",
       "    <tr>\n",
       "      <th>25%</th>\n",
       "      <td>0.000000e+00</td>\n",
       "    </tr>\n",
       "    <tr>\n",
       "      <th>50%</th>\n",
       "      <td>1.000000e+00</td>\n",
       "    </tr>\n",
       "    <tr>\n",
       "      <th>75%</th>\n",
       "      <td>1.000000e+00</td>\n",
       "    </tr>\n",
       "    <tr>\n",
       "      <th>max</th>\n",
       "      <td>1.000000e+00</td>\n",
       "    </tr>\n",
       "  </tbody>\n",
       "</table>\n",
       "</div>"
      ],
      "text/plain": [
       "             target\n",
       "count  7.377418e+06\n",
       "mean   5.035171e-01\n",
       "std    4.999877e-01\n",
       "min    0.000000e+00\n",
       "25%    0.000000e+00\n",
       "50%    1.000000e+00\n",
       "75%    1.000000e+00\n",
       "max    1.000000e+00"
      ]
     },
     "execution_count": 7,
     "metadata": {},
     "output_type": "execute_result"
    }
   ],
   "source": [
    "train.describe()"
   ]
  },
  {
   "cell_type": "markdown",
   "metadata": {},
   "source": [
    "### 查看样本中为0数量"
   ]
  },
  {
   "cell_type": "code",
   "execution_count": 9,
   "metadata": {},
   "outputs": [
    {
     "name": "stdout",
     "output_type": "stream",
     "text": [
      "msno                        0\n",
      "song_id                     0\n",
      "source_system_tab           0\n",
      "source_screen_name          0\n",
      "source_type                 0\n",
      "target                3662762\n",
      "dtype: int64\n"
     ]
    }
   ],
   "source": [
    "dtype=[\"msno\",\"song_id\",\"source_system_tab\",\"source_screen_name\",\"source_type\",\"target\"]\n",
    "print((train[dtype] == 0).sum())"
   ]
  },
  {
   "cell_type": "markdown",
   "metadata": {},
   "source": [
    "我们可以看到为0的值特征列没有，标签数据用户没有续订的样本数有3662762"
   ]
  },
  {
   "cell_type": "markdown",
   "metadata": {},
   "source": [
    "### 查看样本缺省值"
   ]
  },
  {
   "cell_type": "code",
   "execution_count": 12,
   "metadata": {},
   "outputs": [
    {
     "name": "stdout",
     "output_type": "stream",
     "text": [
      "msno 缺省值数： 0\n",
      "song_id 缺省值数： 0\n",
      "source_system_tab 缺省值数： 24849\n",
      "source_screen_name 缺省值数： 414804\n",
      "source_type 缺省值数： 21539\n",
      "target 缺省值数： 0\n"
     ]
    }
   ],
   "source": [
    "for i in dtype:\n",
    "    print(i,'缺省值数：',len(train[pd.isna(train[i])==True]))"
   ]
  },
  {
   "cell_type": "markdown",
   "metadata": {},
   "source": [
    "数据中source_system_tab，source_screen_name和source_type各有24849,414804和21539个缺省值"
   ]
  },
  {
   "cell_type": "markdown",
   "metadata": {},
   "source": [
    "### 计算用户数、音乐数目"
   ]
  },
  {
   "cell_type": "code",
   "execution_count": 15,
   "metadata": {},
   "outputs": [
    {
     "name": "stdout",
     "output_type": "stream",
     "text": [
      "Number of users = 30755\n",
      "Number of music = 359966\n"
     ]
    }
   ],
   "source": [
    "n_users = train['msno'].unique().shape[0]\n",
    "n_items = train['song_id'].unique().shape[0]\n",
    "print ('Number of users = ' + str(n_users) + '\\n'+ 'Number of music = ' + str(n_items) )"
   ]
  },
  {
   "cell_type": "markdown",
   "metadata": {},
   "source": [
    "有用户数为30755，音乐数量为359966"
   ]
  },
  {
   "cell_type": "markdown",
   "metadata": {},
   "source": [
    "### 计算用户以及歌曲的订阅次数"
   ]
  },
  {
   "cell_type": "code",
   "execution_count": 20,
   "metadata": {},
   "outputs": [
    {
     "data": {
      "text/plain": [
       "o+5RNlSWrzvrphgBNGIo1FLkGxBgyICns6qXj3nS7Pk=    3288\n",
       "KGXNZ/H3VxvET/+rGxlrAe7Gpz2eKMXyuSg3xh8Ij1M=    2818\n",
       "FGtllVqz18RPiwJj/edr2gV78zirAiY/9SmYvia+kCg=    2791\n",
       "MXIMDXO0j3UpaT7FvOSGW6Y5zfhlh+xYjTqGoUdMzEE=    2069\n",
       "dU4RbzpIRRd/EkA9Xncpy9CglzDBZp7nKMfdnfr3Aj8=    1978\n",
       "4DlS5LiANEKlMTQD08dakyV1JWwPYI/n1wyjx4ImjPc=    1814\n",
       "JkQacE3rvmhh65R04eDLbu+M7MCkpzmHwMGrbZo0puc=    1806\n",
       "uCDJmSDTzA5PpnYGqKvNmFbwBIoS3jIXFbO5YfoCv/Y=    1794\n",
       "1wiu2UfN0BNhHfPTrDS3S/rQkX/vnwDoKH6ODTUdH9k=    1737\n",
       "cqjRBV/jWN2ujhc+z/4tz+Mj6xEfflAAt6qBXCqxKvw=    1735\n",
       "7xiBI5xU3P2/IiR9teB7jySfzWo96JGikGajteLd3Cs=    1715\n",
       "HVcWdf8CEo9s6qwt5V7TpoPYJfRlQSTA6b7kxEAImpc=    1710\n",
       "mDJCU+fKu/mbdk9l4SmPYiJwpeMyK44o9wmG1X3735A=    1607\n",
       "V39VxDdE9SgMQZnX58oQChm9W056pw2lC3TiifMfkKw=    1602\n",
       "LThaiVqGGnVTPmTcmwN/LLo4fVb5dzkduzd7s1SgzIA=    1578\n",
       "EZmIP7zKgqKwpEHnuDjRIkzCmcLNlHn4hkiglZ5LxK8=    1539\n",
       "00qmlWC3H/cjf2Ig1li5xIO0VNDRgBX0f9ilouDBEZs=    1533\n",
       "x+k/zTEqdgYq6O+r1iDjKRaQnaCS5118gzBe8c12r1Y=    1503\n",
       "K7obY5lUlZTd6a/byE9NG/e7Q/dlgHfppLbYk8OL7os=    1498\n",
       "saNgxsUQwx4IXBRgFF0w3uJN6KzvQBEv3dI7dDaz97g=    1488\n",
       "hYJpPvGod6vy09TnlXdQe3Q0vlxju5u5Ruf8V2XkTio=    1476\n",
       "xQp8uu2ljPWqokw6Eg+4TCB/GUC/EZwFMcapcleGiDw=    1469\n",
       "vBNHobQRQsofef7+9NZk4C6Y6T2PBXSGXUbn6c8UOcg=    1448\n",
       "T+FJrpYi77CWTUE5nO/vliojRaTPgt2bRUQHy5lhXrQ=    1406\n",
       "ocQB699RoI5sBlRUfv8tu++vqupI35/95l3U507jdpw=    1383\n",
       "MxCUQ6tAD7LU1yR0gwRck91ZKE88gY8kD/rX9Hi9srQ=    1381\n",
       "YU6fAgCFgPkaJ1YSW2838KzGTxmBCfgousTO8jwuHYM=    1362\n",
       "wv0o115CdKSsFlsV7VvHikjyxLG0LFc5qALhM8xkUZ4=    1353\n",
       "6aH1YAi5YwvZUHtpjEaMQwM0p4wP4XLrkWQSdXDF9L8=    1341\n",
       "akW+xn32y3X+ZisQokWwV8+caojTEpm3E8lV8E3yuBk=    1326\n",
       "                                                ... \n",
       "hh0ezzTJCTktBs/E6z1YOc4iaP2ACZWwxe2syxe5oOE=       1\n",
       "mikhA7mb21eqqxs3t7zmE8p/NPONTwETzDjuvzZu8bE=       1\n",
       "LFkSf1U8KvnelKAXQONo62Z21nCwj69ZfQaiE1+tAjM=       1\n",
       "qAHlfXYy2vBa3rR9UCQtACnenTuAfdn8m+cEWKOLm4E=       1\n",
       "xOitvhdLK2F1QhDjheUQhwr36/XDOy4OBFmRwZSw+lU=       1\n",
       "JlG8s065ednz2Emnh+vQQIHbac2Uafi0FMc2ATzpjuI=       1\n",
       "YOllWIViACp+OXSrwHz+0JFQ4/t747dAdQvUXhH5VCQ=       1\n",
       "QgGZ9ukhHq3KBarvmbt5qCSwvjykm56BPv2F8I6hf9I=       1\n",
       "60NFhraryKbU5tjgdWPMhyTcxvdYPUrmx36dS97HBJw=       1\n",
       "0wgc4w2jY5UdNwuVAdKbHY1R+rj/wvalhjHgEiqYgno=       1\n",
       "AzBBHJad/vfnkqukQGGyY2CLJHiT9MN7mNqZx73bGMM=       1\n",
       "EKvlimTFLaSkXi2dzete6/gKGegP7AkrnwmoeJOoE5o=       1\n",
       "zqzS6rJYLpRCtGcOf+VSK0GC2f8XfjLw0sImuqq5JfU=       1\n",
       "f6OfjT7TazAhkrOM9jS/7qcd1xYXpwECHggm517CU3k=       1\n",
       "jL29sZkE4GCGP/3x5s+WnEQkzudDc9ylDoTq991ejF8=       1\n",
       "HGi/coVbR5hAyUwi+7nwlr9NBSADwnYvETw+b65/5Wk=       1\n",
       "McKwwKhh5pi3h9b+DXfJ4/JF4KZd6MwcD1UXcQ4fRXI=       1\n",
       "rdViIWEdRo21Og2K8NIP/0UYvpJgPw1q45vOTJpX6OQ=       1\n",
       "sx4G/KPBLooGUeLTVmiyXODNLhEKwGGoWa4+A0g02bY=       1\n",
       "KgMgAce58V7xT6KFIaj+9gL14M9Nam9oYts6cgDbZGM=       1\n",
       "gY98aNtMs0A4E312NdzcVp6zXvz+V0TEbDNYXqcZE78=       1\n",
       "m1Zkssir7E62WL72BOPI3lJVutRd7rui0RnuZuJSuU0=       1\n",
       "fpGSePKPDrpJZrLCefw4MiBG6JhTjVSwpBaWDoa5rZ0=       1\n",
       "vkqmQ85nWwEoAce9OQTTu6Wyi7Ukszom3qBOcZqFvlY=       1\n",
       "gTs75Fz+bTukOCKFmSbZR+Wh8nGugeAPCWck7BARC0U=       1\n",
       "aSg5owJ4qATH/YuS6KAHdfZKuF9oPjpISw0RK87u9n0=       1\n",
       "EUmF2kN9dhZTTy8zZw4+1K0CfIjCb6Pxz4Vvxsnnx7o=       1\n",
       "jPgCkvNlibtWA93nTFFND9JnsN4xi8ofbOCP/kMr7/o=       1\n",
       "L2i/Q9Csx7X54rlC3SYmNitBvU8Qwr03VJCQupKv7m0=       1\n",
       "IEOe7o56H/OTfS4fSH9lVg8Y6r8oH5d3duACxtbV9f8=       1\n",
       "Name: msno, Length: 27113, dtype: int64"
      ]
     },
     "execution_count": 20,
     "metadata": {},
     "output_type": "execute_result"
    }
   ],
   "source": [
    "# 统计每部电影的评分人数，可看出电影的流行程度，默认是降序排列\n",
    "train_clicked = train[train['target']==1]\n",
    "user_freq =train_clicked['msno'].value_counts() \n",
    "item_freq =train_clicked['song_id'].value_counts()\n",
    "user_freq"
   ]
  },
  {
   "cell_type": "markdown",
   "metadata": {},
   "source": [
    "可以看到最活跃的用户连续订阅了 3288次，而不活跃的用户即订阅为1次的用户也存在"
   ]
  },
  {
   "cell_type": "code",
   "execution_count": 26,
   "metadata": {},
   "outputs": [
    {
     "data": {
      "text/plain": [
       "reXuGcEWDDCnL0K3Th//3DFG4S1ACSpJMzA+CFipo1g=    10885\n",
       "T86YHdD4C9JSc274b1IlMkLuNdz4BQRB50fWWE7hx9g=    10556\n",
       "FynUyq0+drmIARmK1JZ/qcjNZ7DKkqTY6/0O0lTzNUI=     9808\n",
       "wBTWuHbjdjxnG1lQcbqnK4FddV24rUhuyrYLd9c/hmk=     9411\n",
       "PgRtmmESVNtWjoZHO5a1r21vIz9sVZmcJJpFCbRa1LI=     9004\n",
       "U9kojfZSKaiWOW94PKh1Riyv/zUWxmBRmv0XInQWLGw=     8787\n",
       "YN4T/yvvXtYrBVN8KTnieiQohHL3T9fnzUkbLWcgLro=     8780\n",
       "M9rAajz4dYuRhZ7jLvf9RRayVA3os61X/XXHEuW4giA=     8403\n",
       "43Qm2YzsP99P5wm37B1JIhezUcQ/1CDjYlQx6rBbz2U=     8112\n",
       "J4qKkLIoW7aYACuTupHLAPZYmRp08en1AEux+GSUzdw=     7903\n",
       "cy10N2j2sdY/X4BDUcMu2Iumfz7pV3tqE5iEaup2yGI=     7725\n",
       "750RprmFfLV0bymtDH88g24pLZGVi5VpBAI300P6UOA=     7608\n",
       "IKMFuL0f5Y8c63Hg9BXkeNJjE0z8yf3gMt/tOxF4QNE=     7224\n",
       "+SstqMwhQPBQFTPBhLKPT642IiBDXzZFwlzsLl4cGXo=     7061\n",
       "DLBDZhOoW7zd7GBV99bi92ZXYUS26lzV+jJKbHshP5c=     6901\n",
       "v/3onppBGoSpGsWb8iaCIO8eX5+iacbH5a4ZUhT7N54=     6879\n",
       "p/yR06j/RQ2J6yGCFL0K+1R06OeG+eXcwxRgOHDo/Tk=     6536\n",
       "Xpjwi8UAE2Vv9PZ6cZnhc58MCtl3cKZEO1sdAkqJ4mo=     6399\n",
       "OaEbZ6TJ1NePtNUeEgWsvFLeopkSln9WQu8PBR5B3+A=     6187\n",
       "BITuBuNyXQydJcjDL2BUnCu4/IXaJg5IPOuycc/4dtY=     6160\n",
       "BgqjNqzsyCpEGvxyUmktvHC8WO5+FQO/pQTaZ4broMU=     6140\n",
       "3VkD5ekIf5duJm1hmYTZlXjyl0zqV8wCzuAh3uocfCg=     6012\n",
       "8Ckw1wek5d6oEsNUoM4P5iag86TaEmyLwdtrckL0Re8=     6003\n",
       "n+pMhj/jpCnpiUcSDl4k3i9FJODDddEXmpE48/HczTI=     5787\n",
       "WL4ipO3Mx9pxd4FMs69ha6o9541+fLeOow67Qkrfnro=     5784\n",
       "/70HjygVDhHsKBoV8mmsBg/WduSgs4+Zg6GfzhUQbdk=     5588\n",
       "L6w2d0w84FjTvFr+BhMfgu7dZAsGiOqUGmvvxIG3gvQ=     5480\n",
       "fEAIgFRWmhXmo6m3ukQeqRksZCcO/7CjkqNckRHiVQo=     5460\n",
       "+Sm75wnBf/sjm/QMUAFx8N+Ae04kWCXGlgH50tTeM6c=     5412\n",
       "VkDBgh89umc9m6uAEfD6LXngetyGhln4vh/ArCGO0nY=     5361\n",
       "                                                ...  \n",
       "TxK9U5Ko+9dO7F+XhyAgK0Xplh806saTbIYWBFs8p8U=        1\n",
       "7AWQmT07uEKVlonp1DbW3L3DMN+ellpyYJXmsGZ4xHw=        1\n",
       "w60IUMZOEih4BCyo4shILBvPHr2HulE864HI7pFUdwk=        1\n",
       "Pih69pKm4uWYY6VXY+JTz/PCgBtohhRX6VQznGLq2RU=        1\n",
       "j3dqe7Jn6UY/IBPhNxB7zAXVgObIeLquIdMFyOsb3SQ=        1\n",
       "QhvoqiCPnzFPZeOkksNZsP3a0WSrGmLn/V/V7lUzoh8=        1\n",
       "AMHSIho4uWuyFecrFA6kcX+XUGt0VAt4QNgqsGnHSlA=        1\n",
       "Kf+Xwd62INseCYMxGG998VGlLLd/f6hqshtZsosyQcs=        1\n",
       "kV2v/hAbOnw/umce/3FpueBqfAbl1SYdayPl3zvjSYg=        1\n",
       "PQAV0KjH5QGIc4H+WxnpYqMJWTceWUgK4Cc9vM/xbss=        1\n",
       "d40kZSrWgpxrii3edSCfAKAdDAoJEzHGlBj7Kio0ZDo=        1\n",
       "ggIBCnuH84UamRB/wnb1PRqGSB46TDfexkCFJPBUmz0=        1\n",
       "UceJ8JMeVgiFuez60Bk8GaQbgSfhPnxJNcEXNNxGWhs=        1\n",
       "lQ1V8lWY04/lLcvIqYBNrTtOAB3iWZBSE1Gs1Kr6ch8=        1\n",
       "2reNJbucpV54mddq7p0cRK5cb8RIgXyIpzyqNH5DlfQ=        1\n",
       "LMcvXaHJfcev+MnvQNFegNr3WdN1epaBGYCGfK7KNFE=        1\n",
       "EnWcJaO3CaBgkx0SmlVRWKvhE1umkqpdOZrPiJhLnZI=        1\n",
       "Cuy+on1T+seHYYendooXcufdqmmPUdDYdDMF+XbPUeU=        1\n",
       "rWNjToe9+p5nA+XEpjbXOfDBJ/93+lZbpI0U8hmoHVI=        1\n",
       "1oRLO4TFi5LvKYYn5yQfDMALVmydU02R+Vqz8wszGME=        1\n",
       "5J3pOhGCO3voWtwQQoP7ofPtCz7gtNjRFjuQ4NQhuvA=        1\n",
       "QALMLEX+GxgLA8bluNuDj/25RQfyww789XuxZXTXDwM=        1\n",
       "8p6PjaEqU+DTA1ThWtJizvM+T8q4LYJGIDOHj21x1fI=        1\n",
       "iC0t7+Y8MAHszgko87uleulWo1teMKTgR5KacE+POfQ=        1\n",
       "BTNphF797clbUeEk7rv6QRdPzcBPvRMLGDZnzh2dKcA=        1\n",
       "0oZRfNYtxaV4oH0jU5/B3xtDqqNHg8z44THNgwcwhNY=        1\n",
       "fo6EGSNvaZFVhIP3kkBvzhHmt5cWxMIMTkWY+VxvpD0=        1\n",
       "KRfrI4F7971IeXaqTRlDJwjED+bYe2kELaIWNk7EpwM=        1\n",
       "YcOhU90DDLcSn74AC1s6OywDjuZB2jAwV5zgurwLaRA=        1\n",
       "6WdN4HBWviQk4wrhbVUtVJ3HdB26G4TJxv6jSzL6g64=        1\n",
       "Name: song_id, Length: 223723, dtype: int64"
      ]
     },
     "execution_count": 26,
     "metadata": {},
     "output_type": "execute_result"
    }
   ],
   "source": [
    "item_freq"
   ]
  },
  {
   "cell_type": "markdown",
   "metadata": {},
   "source": [
    "最受欢迎的歌曲被订阅了 10885，但是很多歌曲都只被订阅了1次或者没有，拖尾性严重"
   ]
  },
  {
   "cell_type": "code",
   "execution_count": 29,
   "metadata": {},
   "outputs": [
    {
     "data": {
      "text/plain": [
       "Text(0,0.5,'Number of occurrences')"
      ]
     },
     "execution_count": 29,
     "metadata": {},
     "output_type": "execute_result"
    },
    {
     "data": {
      "image/png": "[encoded data removed]",
      "text/plain": [
       "<Figure size 432x288 with 1 Axes>"
      ]
     },
     "metadata": {},
     "output_type": "display_data"
    }
   ],
   "source": [
    "#查看target订阅情况\n",
    "sns.countplot(train['target'])\n",
    "plt.xlabel('subscription type')\n",
    "plt.ylabel('Number of occurrences')"
   ]
  },
  {
   "cell_type": "markdown",
   "metadata": {},
   "source": [
    "从图中可以看出继续订阅和停止订阅的数量差不多"
   ]
  },
  {
   "cell_type": "code",
   "execution_count": 39,
   "metadata": {},
   "outputs": [
    {
     "data": {
      "text/html": [
       "<div>\n",
       "<style scoped>\n",
       "    .dataframe tbody tr th:only-of-type {\n",
       "        vertical-align: middle;\n",
       "    }\n",
       "\n",
       "    .dataframe tbody tr th {\n",
       "        vertical-align: top;\n",
       "    }\n",
       "\n",
       "    .dataframe thead th {\n",
       "        text-align: right;\n",
       "    }\n",
       "</style>\n",
       "<table border=\"1\" class=\"dataframe\">\n",
       "  <thead>\n",
       "    <tr style=\"text-align: right;\">\n",
       "      <th></th>\n",
       "      <th>song_id</th>\n",
       "      <th>rating_times</th>\n",
       "    </tr>\n",
       "  </thead>\n",
       "  <tbody>\n",
       "    <tr>\n",
       "      <th>reXuGcEWDDCnL0K3Th//3DFG4S1ACSpJMzA+CFipo1g=</th>\n",
       "      <td>reXuGcEWDDCnL0K3Th//3DFG4S1ACSpJMzA+CFipo1g=</td>\n",
       "      <td>10885</td>\n",
       "    </tr>\n",
       "    <tr>\n",
       "      <th>T86YHdD4C9JSc274b1IlMkLuNdz4BQRB50fWWE7hx9g=</th>\n",
       "      <td>T86YHdD4C9JSc274b1IlMkLuNdz4BQRB50fWWE7hx9g=</td>\n",
       "      <td>10556</td>\n",
       "    </tr>\n",
       "    <tr>\n",
       "      <th>FynUyq0+drmIARmK1JZ/qcjNZ7DKkqTY6/0O0lTzNUI=</th>\n",
       "      <td>FynUyq0+drmIARmK1JZ/qcjNZ7DKkqTY6/0O0lTzNUI=</td>\n",
       "      <td>9808</td>\n",
       "    </tr>\n",
       "    <tr>\n",
       "      <th>wBTWuHbjdjxnG1lQcbqnK4FddV24rUhuyrYLd9c/hmk=</th>\n",
       "      <td>wBTWuHbjdjxnG1lQcbqnK4FddV24rUhuyrYLd9c/hmk=</td>\n",
       "      <td>9411</td>\n",
       "    </tr>\n",
       "    <tr>\n",
       "      <th>PgRtmmESVNtWjoZHO5a1r21vIz9sVZmcJJpFCbRa1LI=</th>\n",
       "      <td>PgRtmmESVNtWjoZHO5a1r21vIz9sVZmcJJpFCbRa1LI=</td>\n",
       "      <td>9004</td>\n",
       "    </tr>\n",
       "  </tbody>\n",
       "</table>\n",
       "</div>"
      ],
      "text/plain": [
       "                                                                                   song_id  \\\n",
       "reXuGcEWDDCnL0K3Th//3DFG4S1ACSpJMzA+CFipo1g=  reXuGcEWDDCnL0K3Th//3DFG4S1ACSpJMzA+CFipo1g=   \n",
       "T86YHdD4C9JSc274b1IlMkLuNdz4BQRB50fWWE7hx9g=  T86YHdD4C9JSc274b1IlMkLuNdz4BQRB50fWWE7hx9g=   \n",
       "FynUyq0+drmIARmK1JZ/qcjNZ7DKkqTY6/0O0lTzNUI=  FynUyq0+drmIARmK1JZ/qcjNZ7DKkqTY6/0O0lTzNUI=   \n",
       "wBTWuHbjdjxnG1lQcbqnK4FddV24rUhuyrYLd9c/hmk=  wBTWuHbjdjxnG1lQcbqnK4FddV24rUhuyrYLd9c/hmk=   \n",
       "PgRtmmESVNtWjoZHO5a1r21vIz9sVZmcJJpFCbRa1LI=  PgRtmmESVNtWjoZHO5a1r21vIz9sVZmcJJpFCbRa1LI=   \n",
       "\n",
       "                                              rating_times  \n",
       "reXuGcEWDDCnL0K3Th//3DFG4S1ACSpJMzA+CFipo1g=         10885  \n",
       "T86YHdD4C9JSc274b1IlMkLuNdz4BQRB50fWWE7hx9g=         10556  \n",
       "FynUyq0+drmIARmK1JZ/qcjNZ7DKkqTY6/0O0lTzNUI=          9808  \n",
       "wBTWuHbjdjxnG1lQcbqnK4FddV24rUhuyrYLd9c/hmk=          9411  \n",
       "PgRtmmESVNtWjoZHO5a1r21vIz9sVZmcJJpFCbRa1LI=          9004  "
      ]
     },
     "execution_count": 39,
     "metadata": {},
     "output_type": "execute_result"
    }
   ],
   "source": [
    "# 统计每首歌曲的订阅次数，可看出歌曲的流行程度，默认是降序排列\n",
    "item_freq =train_clicked['song_id'].value_counts()\n",
    "#item_freq.head()\n",
    "\n",
    "df_items_sorted_by_item_freq = pd.DataFrame({'song_id':item_freq.index, 'rating_times':item_freq})\n",
    "df_items_sorted_by_item_freq.head()"
   ]
  },
  {
   "cell_type": "code",
   "execution_count": 40,
   "metadata": {},
   "outputs": [
    {
     "data": {
      "image/png": "[encoded data removed]",
      "text/plain": [
       "<Figure size 432x288 with 1 Axes>"
      ]
     },
     "metadata": {},
     "output_type": "display_data"
    }
   ],
   "source": [
    "#按订阅次数排列\n",
    "item_freq1 = item_freq.copy()\n",
    "item_freq.index = range(item_freq1.count()) # 对索引重新赋值，方便画图\n",
    "fig, ax = plt.subplots(1, 1)\n",
    "item_freq1.plot(ax=ax, title='rating_times');"
   ]
  },
  {
   "cell_type": "markdown",
   "metadata": {},
   "source": [
    "从图中可以看出，歌曲订阅两级分化严重，订阅次数为0、1与其他值的分化较大。"
   ]
  },
  {
   "cell_type": "code",
   "execution_count": 45,
   "metadata": {},
   "outputs": [
    {
     "data": {
      "text/html": [
       "<div>\n",
       "<style scoped>\n",
       "    .dataframe tbody tr th:only-of-type {\n",
       "        vertical-align: middle;\n",
       "    }\n",
       "\n",
       "    .dataframe tbody tr th {\n",
       "        vertical-align: top;\n",
       "    }\n",
       "\n",
       "    .dataframe thead th {\n",
       "        text-align: right;\n",
       "    }\n",
       "</style>\n",
       "<table border=\"1\" class=\"dataframe\">\n",
       "  <thead>\n",
       "    <tr style=\"text-align: right;\">\n",
       "      <th></th>\n",
       "      <th>song_id</th>\n",
       "      <th>song_length</th>\n",
       "      <th>genre_ids</th>\n",
       "      <th>artist_name</th>\n",
       "      <th>composer</th>\n",
       "      <th>lyricist</th>\n",
       "      <th>language</th>\n",
       "    </tr>\n",
       "  </thead>\n",
       "  <tbody>\n",
       "    <tr>\n",
       "      <th>0</th>\n",
       "      <td>CXoTN1eb7AI+DntdU1vbcwGRV4SCIDxZu+YD8JP8r4E=</td>\n",
       "      <td>247640</td>\n",
       "      <td>465</td>\n",
       "      <td>張信哲 (Jeff Chang)</td>\n",
       "      <td>董貞</td>\n",
       "      <td>何啟弘</td>\n",
       "      <td>3.0</td>\n",
       "    </tr>\n",
       "    <tr>\n",
       "      <th>1</th>\n",
       "      <td>o0kFgae9QtnYgRkVPqLJwa05zIhRlUjfF7O1tDw0ZDU=</td>\n",
       "      <td>197328</td>\n",
       "      <td>444</td>\n",
       "      <td>BLACKPINK</td>\n",
       "      <td>TEDDY|  FUTURE BOUNCE|  Bekuh BOOM</td>\n",
       "      <td>TEDDY</td>\n",
       "      <td>31.0</td>\n",
       "    </tr>\n",
       "    <tr>\n",
       "      <th>2</th>\n",
       "      <td>DwVvVurfpuz+XPuFvucclVQEyPqcpUkHR0ne1RQzPs0=</td>\n",
       "      <td>231781</td>\n",
       "      <td>465</td>\n",
       "      <td>SUPER JUNIOR</td>\n",
       "      <td>NaN</td>\n",
       "      <td>NaN</td>\n",
       "      <td>31.0</td>\n",
       "    </tr>\n",
       "    <tr>\n",
       "      <th>3</th>\n",
       "      <td>dKMBWoZyScdxSkihKG+Vf47nc18N9q4m58+b4e7dSSE=</td>\n",
       "      <td>273554</td>\n",
       "      <td>465</td>\n",
       "      <td>S.H.E</td>\n",
       "      <td>湯小康</td>\n",
       "      <td>徐世珍</td>\n",
       "      <td>3.0</td>\n",
       "    </tr>\n",
       "    <tr>\n",
       "      <th>4</th>\n",
       "      <td>W3bqWd3T+VeHFzHAUfARgW9AvVRaF4N5Yzm4Mr6Eo/o=</td>\n",
       "      <td>140329</td>\n",
       "      <td>726</td>\n",
       "      <td>貴族精選</td>\n",
       "      <td>Traditional</td>\n",
       "      <td>Traditional</td>\n",
       "      <td>52.0</td>\n",
       "    </tr>\n",
       "  </tbody>\n",
       "</table>\n",
       "</div>"
      ],
      "text/plain": [
       "                                        song_id  song_length genre_ids  \\\n",
       "0  CXoTN1eb7AI+DntdU1vbcwGRV4SCIDxZu+YD8JP8r4E=       247640       465   \n",
       "1  o0kFgae9QtnYgRkVPqLJwa05zIhRlUjfF7O1tDw0ZDU=       197328       444   \n",
       "2  DwVvVurfpuz+XPuFvucclVQEyPqcpUkHR0ne1RQzPs0=       231781       465   \n",
       "3  dKMBWoZyScdxSkihKG+Vf47nc18N9q4m58+b4e7dSSE=       273554       465   \n",
       "4  W3bqWd3T+VeHFzHAUfARgW9AvVRaF4N5Yzm4Mr6Eo/o=       140329       726   \n",
       "\n",
       "        artist_name                            composer     lyricist  language  \n",
       "0  張信哲 (Jeff Chang)                                  董貞          何啟弘       3.0  \n",
       "1         BLACKPINK  TEDDY|  FUTURE BOUNCE|  Bekuh BOOM        TEDDY      31.0  \n",
       "2      SUPER JUNIOR                                 NaN          NaN      31.0  \n",
       "3             S.H.E                                 湯小康          徐世珍       3.0  \n",
       "4              貴族精選                         Traditional  Traditional      52.0  "
      ]
     },
     "execution_count": 45,
     "metadata": {},
     "output_type": "execute_result"
    }
   ],
   "source": [
    "df_songs=pd.read_csv('../data1/songs.csv')\n",
    "df_songs_extra=pd.read_csv('../data1/song_extra_info.csv')\n",
    "df_songs1=pd.merge(df_songs, df_songs_extra, how='left', left_on='song_id', right_on='song_id')\n",
    "df_songs.head()"
   ]
  },
  {
   "cell_type": "code",
   "execution_count": 46,
   "metadata": {},
   "outputs": [
    {
     "data": {
      "text/html": [
       "<div>\n",
       "<style scoped>\n",
       "    .dataframe tbody tr th:only-of-type {\n",
       "        vertical-align: middle;\n",
       "    }\n",
       "\n",
       "    .dataframe tbody tr th {\n",
       "        vertical-align: top;\n",
       "    }\n",
       "\n",
       "    .dataframe thead th {\n",
       "        text-align: right;\n",
       "    }\n",
       "</style>\n",
       "<table border=\"1\" class=\"dataframe\">\n",
       "  <thead>\n",
       "    <tr style=\"text-align: right;\">\n",
       "      <th></th>\n",
       "      <th>song_id</th>\n",
       "      <th>rating_times</th>\n",
       "      <th>song_length</th>\n",
       "      <th>genre_ids</th>\n",
       "      <th>artist_name</th>\n",
       "      <th>composer</th>\n",
       "      <th>lyricist</th>\n",
       "      <th>language</th>\n",
       "      <th>name</th>\n",
       "      <th>isrc</th>\n",
       "      <th>ranking_rating_times</th>\n",
       "    </tr>\n",
       "  </thead>\n",
       "  <tbody>\n",
       "    <tr>\n",
       "      <th>0</th>\n",
       "      <td>reXuGcEWDDCnL0K3Th//3DFG4S1ACSpJMzA+CFipo1g=</td>\n",
       "      <td>10885</td>\n",
       "      <td>219324.0</td>\n",
       "      <td>458</td>\n",
       "      <td>周湯豪 (NICKTHEREAL)</td>\n",
       "      <td>周湯豪</td>\n",
       "      <td>周湯豪\\崔惟楷</td>\n",
       "      <td>3.0</td>\n",
       "      <td>帥到分手</td>\n",
       "      <td>TWAG11600306</td>\n",
       "      <td>0</td>\n",
       "    </tr>\n",
       "    <tr>\n",
       "      <th>1</th>\n",
       "      <td>T86YHdD4C9JSc274b1IlMkLuNdz4BQRB50fWWE7hx9g=</td>\n",
       "      <td>10556</td>\n",
       "      <td>215144.0</td>\n",
       "      <td>458</td>\n",
       "      <td>周杰倫 (Jay Chou)</td>\n",
       "      <td>周杰倫</td>\n",
       "      <td>方文山</td>\n",
       "      <td>3.0</td>\n",
       "      <td>告白氣球</td>\n",
       "      <td>TWK971601308</td>\n",
       "      <td>1</td>\n",
       "    </tr>\n",
       "    <tr>\n",
       "      <th>2</th>\n",
       "      <td>FynUyq0+drmIARmK1JZ/qcjNZ7DKkqTY6/0O0lTzNUI=</td>\n",
       "      <td>9808</td>\n",
       "      <td>287328.0</td>\n",
       "      <td>458</td>\n",
       "      <td>Eric 周興哲</td>\n",
       "      <td>Eric Chou</td>\n",
       "      <td>Eric Chou| Yi-Wei Wu</td>\n",
       "      <td>3.0</td>\n",
       "      <td>你，好不好？ (How Have You Been?)</td>\n",
       "      <td>TWA471602002</td>\n",
       "      <td>2</td>\n",
       "    </tr>\n",
       "    <tr>\n",
       "      <th>3</th>\n",
       "      <td>wBTWuHbjdjxnG1lQcbqnK4FddV24rUhuyrYLd9c/hmk=</td>\n",
       "      <td>9411</td>\n",
       "      <td>265508.0</td>\n",
       "      <td>465</td>\n",
       "      <td>田馥甄 (Hebe)</td>\n",
       "      <td>JerryC</td>\n",
       "      <td>徐世珍/吳輝福</td>\n",
       "      <td>3.0</td>\n",
       "      <td>小幸運 (A little happiness)</td>\n",
       "      <td>TWD951562101</td>\n",
       "      <td>3</td>\n",
       "    </tr>\n",
       "    <tr>\n",
       "      <th>4</th>\n",
       "      <td>PgRtmmESVNtWjoZHO5a1r21vIz9sVZmcJJpFCbRa1LI=</td>\n",
       "      <td>9004</td>\n",
       "      <td>227343.0</td>\n",
       "      <td>465</td>\n",
       "      <td>謝和弦 (R-chord)</td>\n",
       "      <td>R-chord</td>\n",
       "      <td>R-chord</td>\n",
       "      <td>3.0</td>\n",
       "      <td>謝謝妳愛我 (Thanks For Your Love)</td>\n",
       "      <td>TWA531657203</td>\n",
       "      <td>4</td>\n",
       "    </tr>\n",
       "  </tbody>\n",
       "</table>\n",
       "</div>"
      ],
      "text/plain": [
       "                                        song_id  rating_times  song_length  \\\n",
       "0  reXuGcEWDDCnL0K3Th//3DFG4S1ACSpJMzA+CFipo1g=         10885     219324.0   \n",
       "1  T86YHdD4C9JSc274b1IlMkLuNdz4BQRB50fWWE7hx9g=         10556     215144.0   \n",
       "2  FynUyq0+drmIARmK1JZ/qcjNZ7DKkqTY6/0O0lTzNUI=          9808     287328.0   \n",
       "3  wBTWuHbjdjxnG1lQcbqnK4FddV24rUhuyrYLd9c/hmk=          9411     265508.0   \n",
       "4  PgRtmmESVNtWjoZHO5a1r21vIz9sVZmcJJpFCbRa1LI=          9004     227343.0   \n",
       "\n",
       "  genre_ids        artist_name   composer              lyricist  language  \\\n",
       "0       458  周湯豪 (NICKTHEREAL)        周湯豪               周湯豪\\崔惟楷       3.0   \n",
       "1       458     周杰倫 (Jay Chou)        周杰倫                   方文山       3.0   \n",
       "2       458           Eric 周興哲  Eric Chou  Eric Chou| Yi-Wei Wu       3.0   \n",
       "3       465         田馥甄 (Hebe)     JerryC               徐世珍/吳輝福       3.0   \n",
       "4       465      謝和弦 (R-chord)    R-chord               R-chord       3.0   \n",
       "\n",
       "                           name          isrc  ranking_rating_times  \n",
       "0                          帥到分手  TWAG11600306                     0  \n",
       "1                          告白氣球  TWK971601308                     1  \n",
       "2   你，好不好？ (How Have You Been?)  TWA471602002                     2  \n",
       "3      小幸運 (A little happiness)  TWD951562101                     3  \n",
       "4  謝謝妳愛我 (Thanks For Your Love)  TWA531657203                     4  "
      ]
     },
     "execution_count": 46,
     "metadata": {},
     "output_type": "execute_result"
    }
   ],
   "source": [
    "# 根据频次大小依次取歌曲信息\n",
    "df_items_sorted_by_item_freq_merge = pd.merge(df_items_sorted_by_item_freq, df_songs1, how='left', left_on='song_id', right_on='song_id')\n",
    "df_items_sorted_by_item_freq_merge['ranking_rating_times']=range(item_freq.count()) # 加上排名,数字越小，排在越前面\n",
    "\n",
    "df_items_sorted_by_item_freq_merge.head()"
   ]
  },
  {
   "cell_type": "code",
   "execution_count": 47,
   "metadata": {},
   "outputs": [
    {
     "data": {
      "image/png": "[encoded data removed]",
      "text/plain": [
       "<Figure size 640x480 with 1 Axes>"
      ]
     },
     "metadata": {},
     "output_type": "display_data"
    }
   ],
   "source": [
    "# 前二十大流行歌曲\n",
    "popular_items_count_top_20 = df_items_sorted_by_item_freq_merge.iloc[0:20]['rating_times']\n",
    "popular_items_top_20_titles =  df_items_sorted_by_item_freq_merge.iloc[0:20]['name']\n",
    "\n",
    "objects = (list(popular_items_top_20_titles))\n",
    "y_pos = np.arange(len(objects))\n",
    "performance = list(popular_items_count_top_20)\n",
    " \n",
    "plt.rcdefaults()    \n",
    "plt.bar(y_pos, performance, align='center', alpha=0.5)\n",
    "plt.xticks(y_pos, objects, rotation='vertical')\n",
    "plt.ylabel('Rating Count')\n",
    "plt.title('Most popular music')\n",
    " \n",
    "plt.show()"
   ]
  },
  {
   "cell_type": "code",
   "execution_count": 49,
   "metadata": {},
   "outputs": [
    {
     "data": {
      "text/plain": [
       "<matplotlib.axes._subplots.AxesSubplot at 0x25910985ef0>"
      ]
     },
     "execution_count": 49,
     "metadata": {},
     "output_type": "execute_result"
    },
    {
     "data": {
      "image/png": "[encoded data removed]",
      "text/plain": [
       "<Figure size 1200x1000 with 1 Axes>"
      ]
     },
     "metadata": {},
     "output_type": "display_data"
    }
   ],
   "source": [
    "#查看事件触发类型\n",
    "plt.figure(figsize=(12,10))\n",
    "sns.countplot(train['source_system_tab'],hue=train['target'])\n",
    "#plt.show()"
   ]
  },
  {
   "cell_type": "code",
   "execution_count": 50,
   "metadata": {},
   "outputs": [
    {
     "data": {
      "text/plain": [
       "[Text(0,0,'online-playlist'),\n",
       " Text(0,0,'local-playlist'),\n",
       " Text(0,0,'local-library'),\n",
       " Text(0,0,'top-hits-for-artist'),\n",
       " Text(0,0,'album'),\n",
       " Text(0,0,'song-based-playlist'),\n",
       " Text(0,0,'radio'),\n",
       " Text(0,0,'song'),\n",
       " Text(0,0,'listen-with'),\n",
       " Text(0,0,'artist'),\n",
       " Text(0,0,'topic-article-playlist'),\n",
       " Text(0,0,'my-daily-playlist')]"
      ]
     },
     "execution_count": 50,
     "metadata": {},
     "output_type": "execute_result"
    },
    {
     "data": {
      "image/png": "[encoded data removed]",
      "text/plain": [
       "<Figure size 1200x1000 with 1 Axes>"
      ]
     },
     "metadata": {},
     "output_type": "display_data"
    }
   ],
   "source": [
    "#查看音乐入口类型\n",
    "plt.figure(figsize=(12,10))\n",
    "g=sns.countplot(train['source_type'],hue=train['target'])\n",
    "locs,labels=plt.xticks()\n",
    "g.set_xticklabels(labels,rotation=45)\n",
    "#plt.show()"
   ]
  },
  {
   "cell_type": "code",
   "execution_count": 52,
   "metadata": {},
   "outputs": [],
   "source": [
    "#将触发事件、播放音乐入口的类型改为category\n",
    "train['source_system_tab']=train['source_system_tab'].astype('category')\n",
    "train['source_type']=train['source_type'].astype('category')"
   ]
  }
 ],
 "metadata": {
  "kernelspec": {
   "display_name": "Python 3",
   "language": "python",
   "name": "python3"
  },
  "language_info": {
   "codemirror_mode": {
    "name": "ipython",
    "version": 3
   },
   "file_extension": ".py",
   "mimetype": "text/x-python",
   "name": "python",
   "nbconvert_exporter": "python",
   "pygments_lexer": "ipython3",
   "version": "3.6.5"
  }
 },
 "nbformat": 4,
 "nbformat_minor": 2
}
